{
  "nbformat": 4,
  "nbformat_minor": 0,
  "metadata": {
    "colab": {
      "machine_shape": "hm",
      "gpuType": "A100",
      "provenance": [],
      "include_colab_link": true
    },
    "kernelspec": {
      "display_name": "Python 3",
      "name": "python3"
    },
    "language_info": {
      "name": "python"
    },
    "accelerator": "GPU"
  },
  "cells": [
    {
      "cell_type": "markdown",
      "metadata": {
        "id": "view-in-github",
        "colab_type": "text"
      },
      "source": [
        "<a href=\"https://colab.research.google.com/github/sokrypton/ColabFold/blob/main/BioEmu.ipynb\" target=\"_parent\"><img src=\"https://colab.research.google.com/assets/colab-badge.svg\" alt=\"Open In Colab\"/></a>"
      ]
    },
    {
      "cell_type": "markdown",
      "metadata": {
        "id": "bioemu_title"
      },
      "source": [
        "# **Biomolecular Emulator (BioEmu) in ColabFold**\n",
        "<img src=\"https://github.com/microsoft/bioemu/raw/main/assets/emu.png\" height=\"130\" align=\"right\" style=\"height:240px\">\n",
        "\n",
        "[BioEmu](https://github.com/microsoft/bioemu) is a framework for emulating biomolecular dynamics and integrating structural prediction tools to accelerate research in structural biology and protein engineering. This notebook builds uses ColabFold to generate the MSA.\n",
        "\n",
        "\n",
        "\n",
        "For more details, please read the [BioEmu Preprint](https://www.biorxiv.org/content/10.1101/2024.12.05.626885v1.abstract).\n"
      ]
    },
    {
      "cell_type": "code",
      "metadata": {
        "id": "user_input_code",
        "cellView": "form"
      },
      "source": [
        "#@title Input protein sequence(s), then hit `Runtime` -> `Run all`\n",
        "sequence = \"PIAQIHILEGRSDEQKETLIREVSEAISRSLDAPLTSVRVIITEMAKGHFGIGGELASK\"  #@param {type:\"string\"}\n",
        "num_samples = 10  #@param {type:\"integer\"}\n",
        "jobname = \"test\"  #@param {type:\"string\"}\n",
        "side_chain_reconstruction = False\n",
        "# #@param {type:\"boolean\"}\n",
        "# ------------------------\n",
        "# Copied logic from ColabFold\n",
        "# ------------------------\n",
        "import os\n",
        "import re\n",
        "import hashlib\n",
        "\n",
        "def add_hash(x, seq):\n",
        "    \"\"\"Append a short SHA-1 hash of seq to x.\"\"\"\n",
        "    return x + \"_\" + hashlib.sha1(seq.encode()).hexdigest()[:5]\n",
        "\n",
        "def folder_is_free(folder):\n",
        "    \"\"\"Return True if folder doesn't exist.\"\"\"\n",
        "    return not os.path.exists(folder)\n",
        "\n",
        "jobname_clean = re.sub(r'\\W+', '', jobname)\n",
        "sequence = \"\".join(sequence.split())\n",
        "jobname = add_hash(jobname_clean, sequence)\n",
        "\n",
        "if not folder_is_free(jobname):\n",
        "    n = 0\n",
        "    while not folder_is_free(f\"{jobname}_{n}\"):\n",
        "        n += 1\n",
        "    jobname = f\"{jobname}_{n}\"\n",
        "\n",
        "output_dir = os.path.join(\"/content\", jobname)\n",
        "os.makedirs(output_dir, exist_ok=True)\n"
      ],
      "execution_count": null,
      "outputs": []
    },
    {
      "cell_type": "code",
      "metadata": {
        "id": "install_code",
        "cellView": "form"
      },
      "source": [
        "#@title Install\n",
        "%%time\n",
        "# Setup BioEmu\n",
        "!git clone https://github.com/microsoft/bioemu.git bioemu_repo\n",
        "script = \"\"\"#!/bin/bash\n",
        "set -e\n",
        "\n",
        "SCRIPT_DIR=$( cd -- \"$( dirname -- \"${BASH_SOURCE[0]}\" )\" &> /dev/null && pwd )\n",
        "\n",
        "# Set up colabfold\n",
        "if [ -z \"$COLABFOLD_DIR\" ]; then\n",
        "  echo \"COLABFOLD_DIR not set. Setting to $HOME/.localcolabfold\"\n",
        "  export COLABFOLD_DIR=$HOME/.localcolabfold\n",
        "fi\n",
        "\n",
        "if [ -f $COLABFOLD_DIR/localcolabfold/colabfold-conda/bin/colabfold_batch ]; then\n",
        "  echo \"colabfold already installed in $COLABFOLD_DIR/localcolabfold/colabfold-conda/bin/colabfold_batch\"\n",
        "else\n",
        "  bash $SCRIPT_DIR/colabfold_setup/setup.sh\n",
        "fi\n",
        "\n",
        "# Install bioemu and bioemu-benchmarks\n",
        "uv pip install -q --system $SCRIPT_DIR bioemu-benchmarks\n",
        "\"\"\"\n",
        "\n",
        "with open('bioemu_repo/setup_colab.sh', 'w') as handle:\n",
        "  handle.write(script)\n",
        "\n",
        "!bash bioemu_repo/setup_colab.sh > /dev/null 2>&1\n",
        "!pip install -q py3Dmol"
      ],
      "execution_count": null,
      "outputs": []
    },
    {
      "cell_type": "code",
      "metadata": {
        "id": "sampling_code",
        "cellView": "form"
      },
      "source": [
        "#@title Run BioEmu Sampling\n",
        "import subprocess, sys\n",
        "\n",
        "cmd = [\n",
        "    sys.executable, \"-m\", \"bioemu.sample\",\n",
        "    \"--sequence\", sequence,\n",
        "    \"--num_samples\", str(num_samples),\n",
        "    \"--output_dir\", output_dir\n",
        "]\n",
        "\n",
        "print(\"Running command:\\n\", \" \".join(cmd))\n",
        "subprocess.run(cmd)\n",
        "print(\"\\nSampling complete. Check the\", output_dir, \"directory for PDB and XTC files.\")"
      ],
      "execution_count": null,
      "outputs": []
    },
    {
      "cell_type": "code",
      "metadata": {
        "id": "viz_code",
        "cellView": "form"
      },
      "source": [
        "#@title Visualize Frames\n",
        "\n",
        "import os\n",
        "import tempfile\n",
        "import ipywidgets as widgets\n",
        "from IPython.display import display\n",
        "import py3Dmol\n",
        "import mdtraj as md\n",
        "\n",
        "# Provide your actual output_dir, or ensure these files exist\n",
        "pdb_path = os.path.join(output_dir, \"topology.pdb\")\n",
        "xtc_path = os.path.join(output_dir, \"samples.xtc\")\n",
        "def frame_to_pdb_string(frame):\n",
        "    \"\"\"Write a single-frame mdtraj.Trajectory to a temp PDB file, return as string.\"\"\"\n",
        "    with tempfile.NamedTemporaryFile(mode='w', suffix='.pdb', delete=False) as tmp:\n",
        "        tmp_filename = tmp.name\n",
        "    frame.save_pdb(tmp_filename)\n",
        "    with open(tmp_filename, 'r') as f:\n",
        "        pdb_str = f.read()\n",
        "    os.remove(tmp_filename)\n",
        "    return pdb_str\n",
        "\n",
        "# Create the py3Dmol view once\n",
        "view = py3Dmol.view(width=600, height=400)\n",
        "traj = md.load(xtc_path, top=pdb_path)\n",
        "pdb_str = frame_to_pdb_string(traj[:1])\n",
        "view.addModel(pdb_str, \"pdb\")\n",
        "view.setStyle({\"cartoon\": {\"color\": \"spectrum\"}})\n",
        "view.zoomTo()\n",
        "view.show()  # Show the viewer just once here\n",
        "\n",
        "# Create the slider\n",
        "frame_slider = widgets.IntSlider(\n",
        "    value=0,\n",
        "    min=0,\n",
        "    max=len(traj) - 1,\n",
        "    step=1,\n",
        "    description='Frame'\n",
        ")\n",
        "\n",
        "def on_frame_change(change):\n",
        "    \"\"\"Update the existing py3Dmol view in place when the slider changes.\"\"\"\n",
        "    frame_idx = change[\"new\"]\n",
        "    pdb_str = frame_to_pdb_string(traj[frame_idx:frame_idx+1])\n",
        "\n",
        "    view.removeAllModels()\n",
        "    view.addModel(pdb_str, \"pdb\")\n",
        "    view.setStyle({\"cartoon\": {\"color\": \"spectrum\"}})\n",
        "    view.zoomTo()\n",
        "    # Force an update of the existing view instead of creating a new cell output\n",
        "    view.update()\n",
        "\n",
        "frame_slider.observe(on_frame_change, names=\"value\")\n",
        "display(frame_slider)\n"
      ],
      "execution_count": null,
      "outputs": []
    },
    {
      "cell_type": "code",
      "metadata": {
        "id": "zip_download",
        "cellView": "form"
      },
      "source": [
        "#@title Zip and Download All Results\n",
        "from google.colab import files\n",
        "\n",
        "zip_name = \"bioemu_samples.zip\"\n",
        "!zip -r $zip_name $output_dir\n",
        "files.download(zip_name)"
      ],
      "execution_count": null,
      "outputs": []
    }
  ]
}